{
 "cells": [
  {
   "cell_type": "code",
   "execution_count": 1,
   "metadata": {},
   "outputs": [],
   "source": [
    "import pandas as pd\n",
    "import numpy as np\n",
    "import matplotlib.pyplot as plt\n",
    "import seaborn as sns\n",
    "from sklearn.impute import KNNImputer"
   ]
  },
  {
   "cell_type": "markdown",
   "metadata": {},
   "source": [
    "Hoy analizaremos un dataset sobre los fallecimientos por COVID-19 en Peru utilizando la plataforma nacional de datos abiertos emitido por el ministerio de Salud  - MINSA. Contamos con datos sobre la edad, sexo, departamento, provincia, distrito y clasificacion de criterios clinicos"
   ]
  },
  {
   "cell_type": "code",
   "execution_count": 2,
   "metadata": {},
   "outputs": [
    {
     "name": "stderr",
     "output_type": "stream",
     "text": [
      "C:\\Users\\User\\AppData\\Local\\Temp\\ipykernel_24568\\3301934751.py:1: DtypeWarning: Columns (8) have mixed types. Specify dtype option on import or set low_memory=False.\n",
      "  covidpe = pd.read_csv(\"fallecidos_covid.csv\", sep=';')\n"
     ]
    }
   ],
   "source": [
    "covidpe = pd.read_csv(\"fallecidos_covid.csv\", sep=';')"
   ]
  },
  {
   "cell_type": "code",
   "execution_count": 3,
   "metadata": {},
   "outputs": [
    {
     "data": {
      "text/html": [
       "<div>\n",
       "<style scoped>\n",
       "    .dataframe tbody tr th:only-of-type {\n",
       "        vertical-align: middle;\n",
       "    }\n",
       "\n",
       "    .dataframe tbody tr th {\n",
       "        vertical-align: top;\n",
       "    }\n",
       "\n",
       "    .dataframe thead th {\n",
       "        text-align: right;\n",
       "    }\n",
       "</style>\n",
       "<table border=\"1\" class=\"dataframe\">\n",
       "  <thead>\n",
       "    <tr style=\"text-align: right;\">\n",
       "      <th></th>\n",
       "      <th>FECHA_CORTE</th>\n",
       "      <th>FECHA_FALLECIMIENTO</th>\n",
       "      <th>EDAD_DECLARADA</th>\n",
       "      <th>SEXO</th>\n",
       "      <th>CLASIFICACION_DEF</th>\n",
       "      <th>DEPARTAMENTO</th>\n",
       "      <th>PROVINCIA</th>\n",
       "      <th>DISTRITO</th>\n",
       "      <th>UBIGEO</th>\n",
       "      <th>id_persona</th>\n",
       "    </tr>\n",
       "  </thead>\n",
       "  <tbody>\n",
       "    <tr>\n",
       "      <th>0</th>\n",
       "      <td>20231114</td>\n",
       "      <td>20210611</td>\n",
       "      <td>21</td>\n",
       "      <td>MASCULINO</td>\n",
       "      <td>SINADEF</td>\n",
       "      <td>LAMBAYEQUE</td>\n",
       "      <td>CHICLAYO</td>\n",
       "      <td>CHICLAYO</td>\n",
       "      <td>140101</td>\n",
       "      <td>24833991.0</td>\n",
       "    </tr>\n",
       "    <tr>\n",
       "      <th>1</th>\n",
       "      <td>20231114</td>\n",
       "      <td>20210317</td>\n",
       "      <td>45</td>\n",
       "      <td>MASCULINO</td>\n",
       "      <td>serologico</td>\n",
       "      <td>PIURA</td>\n",
       "      <td>SULLANA</td>\n",
       "      <td>SULLANA</td>\n",
       "      <td>200601</td>\n",
       "      <td>24761117.0</td>\n",
       "    </tr>\n",
       "    <tr>\n",
       "      <th>2</th>\n",
       "      <td>20231114</td>\n",
       "      <td>20210602</td>\n",
       "      <td>62</td>\n",
       "      <td>FEMENINO</td>\n",
       "      <td>virologico</td>\n",
       "      <td>ICA</td>\n",
       "      <td>PISCO</td>\n",
       "      <td>SAN CLEMENTE</td>\n",
       "      <td>110507</td>\n",
       "      <td>24767070.0</td>\n",
       "    </tr>\n",
       "    <tr>\n",
       "      <th>3</th>\n",
       "      <td>20231114</td>\n",
       "      <td>20210703</td>\n",
       "      <td>75</td>\n",
       "      <td>MASCULINO</td>\n",
       "      <td>virologico</td>\n",
       "      <td>AREQUIPA</td>\n",
       "      <td>AREQUIPA</td>\n",
       "      <td>MIRAFLORES</td>\n",
       "      <td>40110</td>\n",
       "      <td>24751741.0</td>\n",
       "    </tr>\n",
       "    <tr>\n",
       "      <th>4</th>\n",
       "      <td>20231114</td>\n",
       "      <td>20210506</td>\n",
       "      <td>66</td>\n",
       "      <td>FEMENINO</td>\n",
       "      <td>virologico</td>\n",
       "      <td>LIMA</td>\n",
       "      <td>LIMA</td>\n",
       "      <td>SAN JUAN DE LURIGANCHO</td>\n",
       "      <td>150132</td>\n",
       "      <td>24671820.0</td>\n",
       "    </tr>\n",
       "  </tbody>\n",
       "</table>\n",
       "</div>"
      ],
      "text/plain": [
       "   FECHA_CORTE  FECHA_FALLECIMIENTO  EDAD_DECLARADA       SEXO  \\\n",
       "0     20231114             20210611              21  MASCULINO   \n",
       "1     20231114             20210317              45  MASCULINO   \n",
       "2     20231114             20210602              62   FEMENINO   \n",
       "3     20231114             20210703              75  MASCULINO   \n",
       "4     20231114             20210506              66   FEMENINO   \n",
       "\n",
       "  CLASIFICACION_DEF DEPARTAMENTO PROVINCIA                DISTRITO  UBIGEO  \\\n",
       "0           SINADEF   LAMBAYEQUE  CHICLAYO                CHICLAYO  140101   \n",
       "1        serologico        PIURA   SULLANA                 SULLANA  200601   \n",
       "2        virologico          ICA     PISCO            SAN CLEMENTE  110507   \n",
       "3        virologico     AREQUIPA  AREQUIPA              MIRAFLORES   40110   \n",
       "4        virologico         LIMA      LIMA  SAN JUAN DE LURIGANCHO  150132   \n",
       "\n",
       "   id_persona  \n",
       "0  24833991.0  \n",
       "1  24761117.0  \n",
       "2  24767070.0  \n",
       "3  24751741.0  \n",
       "4  24671820.0  "
      ]
     },
     "execution_count": 3,
     "metadata": {},
     "output_type": "execute_result"
    }
   ],
   "source": [
    "covidpe.head(5)"
   ]
  },
  {
   "cell_type": "code",
   "execution_count": 4,
   "metadata": {},
   "outputs": [
    {
     "name": "stdout",
     "output_type": "stream",
     "text": [
      "<class 'pandas.core.frame.DataFrame'>\n",
      "RangeIndex: 201902 entries, 0 to 201901\n",
      "Data columns (total 10 columns):\n",
      " #   Column               Non-Null Count   Dtype  \n",
      "---  ------               --------------   -----  \n",
      " 0   FECHA_CORTE          201902 non-null  int64  \n",
      " 1   FECHA_FALLECIMIENTO  201902 non-null  int64  \n",
      " 2   EDAD_DECLARADA       201902 non-null  int64  \n",
      " 3   SEXO                 201902 non-null  object \n",
      " 4   CLASIFICACION_DEF    201902 non-null  object \n",
      " 5   DEPARTAMENTO         201902 non-null  object \n",
      " 6   PROVINCIA            201897 non-null  object \n",
      " 7   DISTRITO             201897 non-null  object \n",
      " 8   UBIGEO               201902 non-null  object \n",
      " 9   id_persona           198512 non-null  float64\n",
      "dtypes: float64(1), int64(3), object(6)\n",
      "memory usage: 15.4+ MB\n"
     ]
    }
   ],
   "source": [
    "covidpe.info()"
   ]
  },
  {
   "cell_type": "markdown",
   "metadata": {},
   "source": [
    "Al parecer tenemos valores nulos en las columnas de Provincia, Distrito e id_persona asi que manos a la obra "
   ]
  },
  {
   "cell_type": "code",
   "execution_count": 5,
   "metadata": {},
   "outputs": [
    {
     "data": {
      "text/plain": [
       "FECHA_CORTE               0\n",
       "FECHA_FALLECIMIENTO       0\n",
       "EDAD_DECLARADA            0\n",
       "SEXO                      0\n",
       "CLASIFICACION_DEF         0\n",
       "DEPARTAMENTO              0\n",
       "PROVINCIA                 5\n",
       "DISTRITO                  5\n",
       "UBIGEO                    0\n",
       "id_persona             3390\n",
       "dtype: int64"
      ]
     },
     "execution_count": 5,
     "metadata": {},
     "output_type": "execute_result"
    }
   ],
   "source": [
    "covidpe.isnull().sum()"
   ]
  },
  {
   "cell_type": "markdown",
   "metadata": {},
   "source": [
    "Vaya tenemos muchos valores nulos para id_persona, dado que cada id es un registro de fallecimiento creare una nueva columna y luego la remplazaremos por los nuevos id por cada fila"
   ]
  },
  {
   "cell_type": "code",
   "execution_count": 6,
   "metadata": {},
   "outputs": [],
   "source": [
    "covidpe['persona_ID'] = range(1, len(covidpe) + 1)"
   ]
  },
  {
   "cell_type": "code",
   "execution_count": 7,
   "metadata": {},
   "outputs": [],
   "source": [
    "covidpe.drop('id_persona', axis=1, inplace=True)"
   ]
  },
  {
   "cell_type": "markdown",
   "metadata": {},
   "source": [
    "Ahora empecemos con los valores nulos en provincia y distrito, primero identificamos los indices de esos NaN"
   ]
  },
  {
   "cell_type": "code",
   "execution_count": 8,
   "metadata": {},
   "outputs": [
    {
     "name": "stdout",
     "output_type": "stream",
     "text": [
      "Valores NaN en 'PROVINCIA':\n",
      "        FECHA_CORTE  FECHA_FALLECIMIENTO  EDAD_DECLARADA       SEXO  \\\n",
      "6433       20231114             20200419              76   FEMENINO   \n",
      "57361      20231114             20200424              48  MASCULINO   \n",
      "134092     20231114             20200414              80   FEMENINO   \n",
      "199415     20231114             20200515              83   FEMENINO   \n",
      "200742     20231114             20200426              74  MASCULINO   \n",
      "\n",
      "       CLASIFICACION_DEF DEPARTAMENTO PROVINCIA DISTRITO UBIGEO  persona_ID  \n",
      "6433             clinico   LAMBAYEQUE       NaN      NaN      .        6434  \n",
      "57361            clinico       CALLAO       NaN      NaN      .       57362  \n",
      "134092           clinico       LORETO       NaN      NaN      .      134093  \n",
      "199415           clinico   SAN MARTIN       NaN      NaN      .      199416  \n",
      "200742           clinico   LAMBAYEQUE       NaN      NaN      .      200743  \n"
     ]
    }
   ],
   "source": [
    "valores_nan = covidpe[covidpe['PROVINCIA'].isna()]\n",
    "\n",
    "print(\"Valores NaN en 'PROVINCIA':\")\n",
    "print(valores_nan)"
   ]
  },
  {
   "cell_type": "markdown",
   "metadata": {},
   "source": [
    "Aunque los datos nulos no representen una cantidad signficativa del dataframe vamos a darle un tratamiento asi que empezamos obteniendo la moda para remplazar esos valores"
   ]
  },
  {
   "cell_type": "code",
   "execution_count": 9,
   "metadata": {},
   "outputs": [],
   "source": [
    "moda_por_distrito = covidpe.groupby('DEPARTAMENTO')['DISTRITO'].apply(lambda x: x.mode().iloc[0] if not x.mode().empty else np.nan).reset_index()"
   ]
  },
  {
   "cell_type": "code",
   "execution_count": 10,
   "metadata": {},
   "outputs": [],
   "source": [
    "moda_por_provincia = covidpe.groupby('DEPARTAMENTO')['PROVINCIA'].apply(lambda x: x.mode().iloc[0] if not x.mode().empty else np.nan).reset_index()"
   ]
  },
  {
   "cell_type": "code",
   "execution_count": 11,
   "metadata": {},
   "outputs": [],
   "source": [
    "cambios = {\n",
    "    6433: ('CHICLAYO', 'CHICLAYO'),\n",
    "    57361: ('CALLAO', 'CALLAO'),\n",
    "    134092: ('MAYNAS', 'IQUITOS'),\n",
    "    199415: ('SAN MARTIN', 'TARAPOTO'),\n",
    "    200742: ('CHICLAYO', 'CHICLAYO')\n",
    "}\n",
    "\n",
    "for indice, (prov, dist) in cambios.items():\n",
    "    covidpe.at[indice, 'PROVINCIA'] = prov\n",
    "    covidpe.at[indice, 'DISTRITO'] = dist"
   ]
  },
  {
   "cell_type": "code",
   "execution_count": 12,
   "metadata": {},
   "outputs": [
    {
     "name": "stdout",
     "output_type": "stream",
     "text": [
      "<class 'pandas.core.frame.DataFrame'>\n",
      "RangeIndex: 201902 entries, 0 to 201901\n",
      "Data columns (total 10 columns):\n",
      " #   Column               Non-Null Count   Dtype \n",
      "---  ------               --------------   ----- \n",
      " 0   FECHA_CORTE          201902 non-null  int64 \n",
      " 1   FECHA_FALLECIMIENTO  201902 non-null  int64 \n",
      " 2   EDAD_DECLARADA       201902 non-null  int64 \n",
      " 3   SEXO                 201902 non-null  object\n",
      " 4   CLASIFICACION_DEF    201902 non-null  object\n",
      " 5   DEPARTAMENTO         201902 non-null  object\n",
      " 6   PROVINCIA            201902 non-null  object\n",
      " 7   DISTRITO             201902 non-null  object\n",
      " 8   UBIGEO               201902 non-null  object\n",
      " 9   persona_ID           201902 non-null  int64 \n",
      "dtypes: int64(4), object(6)\n",
      "memory usage: 15.4+ MB\n"
     ]
    }
   ],
   "source": [
    "covidpe.info()"
   ]
  },
  {
   "cell_type": "markdown",
   "metadata": {},
   "source": [
    "Genial, ahora si no tenemos valores nulos :)"
   ]
  },
  {
   "cell_type": "code",
   "execution_count": 13,
   "metadata": {},
   "outputs": [
    {
     "data": {
      "text/html": [
       "<div>\n",
       "<style scoped>\n",
       "    .dataframe tbody tr th:only-of-type {\n",
       "        vertical-align: middle;\n",
       "    }\n",
       "\n",
       "    .dataframe tbody tr th {\n",
       "        vertical-align: top;\n",
       "    }\n",
       "\n",
       "    .dataframe thead th {\n",
       "        text-align: right;\n",
       "    }\n",
       "</style>\n",
       "<table border=\"1\" class=\"dataframe\">\n",
       "  <thead>\n",
       "    <tr style=\"text-align: right;\">\n",
       "      <th></th>\n",
       "      <th>FECHA_CORTE</th>\n",
       "      <th>FECHA_FALLECIMIENTO</th>\n",
       "      <th>EDAD_DECLARADA</th>\n",
       "      <th>persona_ID</th>\n",
       "    </tr>\n",
       "  </thead>\n",
       "  <tbody>\n",
       "    <tr>\n",
       "      <th>count</th>\n",
       "      <td>201902.0</td>\n",
       "      <td>2.019020e+05</td>\n",
       "      <td>201902.000000</td>\n",
       "      <td>201902.000000</td>\n",
       "    </tr>\n",
       "    <tr>\n",
       "      <th>mean</th>\n",
       "      <td>20231114.0</td>\n",
       "      <td>2.020591e+07</td>\n",
       "      <td>66.049524</td>\n",
       "      <td>100951.500000</td>\n",
       "    </tr>\n",
       "    <tr>\n",
       "      <th>std</th>\n",
       "      <td>0.0</td>\n",
       "      <td>4.825318e+03</td>\n",
       "      <td>15.378123</td>\n",
       "      <td>58284.231362</td>\n",
       "    </tr>\n",
       "    <tr>\n",
       "      <th>min</th>\n",
       "      <td>20231114.0</td>\n",
       "      <td>2.020030e+07</td>\n",
       "      <td>-9.000000</td>\n",
       "      <td>1.000000</td>\n",
       "    </tr>\n",
       "    <tr>\n",
       "      <th>25%</th>\n",
       "      <td>20231114.0</td>\n",
       "      <td>2.020072e+07</td>\n",
       "      <td>57.000000</td>\n",
       "      <td>50476.250000</td>\n",
       "    </tr>\n",
       "    <tr>\n",
       "      <th>50%</th>\n",
       "      <td>20231114.0</td>\n",
       "      <td>2.021012e+07</td>\n",
       "      <td>67.000000</td>\n",
       "      <td>100951.500000</td>\n",
       "    </tr>\n",
       "    <tr>\n",
       "      <th>75%</th>\n",
       "      <td>20231114.0</td>\n",
       "      <td>2.021041e+07</td>\n",
       "      <td>77.000000</td>\n",
       "      <td>151426.750000</td>\n",
       "    </tr>\n",
       "    <tr>\n",
       "      <th>max</th>\n",
       "      <td>20231114.0</td>\n",
       "      <td>2.021121e+07</td>\n",
       "      <td>117.000000</td>\n",
       "      <td>201902.000000</td>\n",
       "    </tr>\n",
       "  </tbody>\n",
       "</table>\n",
       "</div>"
      ],
      "text/plain": [
       "       FECHA_CORTE  FECHA_FALLECIMIENTO  EDAD_DECLARADA     persona_ID\n",
       "count     201902.0         2.019020e+05   201902.000000  201902.000000\n",
       "mean    20231114.0         2.020591e+07       66.049524  100951.500000\n",
       "std            0.0         4.825318e+03       15.378123   58284.231362\n",
       "min     20231114.0         2.020030e+07       -9.000000       1.000000\n",
       "25%     20231114.0         2.020072e+07       57.000000   50476.250000\n",
       "50%     20231114.0         2.021012e+07       67.000000  100951.500000\n",
       "75%     20231114.0         2.021041e+07       77.000000  151426.750000\n",
       "max     20231114.0         2.021121e+07      117.000000  201902.000000"
      ]
     },
     "execution_count": 13,
     "metadata": {},
     "output_type": "execute_result"
    }
   ],
   "source": [
    "covidpe.describe()"
   ]
  },
  {
   "cell_type": "markdown",
   "metadata": {},
   "source": [
    "Vaya esta un poco raro que una persona tenga -9 años, vemoslo mejor en un grafico, pero primero cambiemos algunos nombres de las columnas y eliminemos la columna de fecha_corte "
   ]
  },
  {
   "cell_type": "code",
   "execution_count": 14,
   "metadata": {},
   "outputs": [],
   "source": [
    "covidpe=covidpe.drop('FECHA_CORTE', axis=1)"
   ]
  },
  {
   "cell_type": "code",
   "execution_count": 15,
   "metadata": {},
   "outputs": [],
   "source": [
    "covidpe.rename(columns={'EDAD_DECLARADA':'EDAD','CLASIFICACION_DEF':'CRITERIO'},inplace= True)"
   ]
  },
  {
   "cell_type": "code",
   "execution_count": 16,
   "metadata": {},
   "outputs": [
    {
     "data": {
      "image/png": "[encoded data removed]",
      "text/plain": [
       "<Figure size 2000x1500 with 1 Axes>"
      ]
     },
     "metadata": {},
     "output_type": "display_data"
    }
   ],
   "source": [
    "covidpe[('EDAD')].hist(bins = 50, figsize=(20,15))\n",
    "plt.show()"
   ]
  },
  {
   "cell_type": "markdown",
   "metadata": {},
   "source": [
    "Okeyy esto no me gusta, considerando que INEI manifiesta que los peruanos y las peruanas vivirán, en promedio, 74,6 años (72,0 años los hombres y 77,3 las mujeres) estas edades no son muy buenas. Veamos mas a fondo estos datos."
   ]
  },
  {
   "cell_type": "code",
   "execution_count": 17,
   "metadata": {},
   "outputs": [
    {
     "data": {
      "image/png": "[encoded data removed]",
      "text/plain": [
       "<Figure size 800x600 with 1 Axes>"
      ]
     },
     "metadata": {},
     "output_type": "display_data"
    }
   ],
   "source": [
    "plt.figure(figsize=(8, 6))\n",
    "plt.boxplot(covidpe['EDAD'], vert=False)\n",
    "plt.title('Boxplot de la Edad en COVID-19')\n",
    "plt.xlabel('Edad')\n",
    "plt.show()"
   ]
  },
  {
   "cell_type": "markdown",
   "metadata": {},
   "source": [
    "Como ya lo habiamos notado, tenemos outliers entre los 20  y 100 años de edad , asi que utilizare el Método de los 3 sigmas\n",
    " para definir nuestros limites superiores e inferiores"
   ]
  },
  {
   "cell_type": "code",
   "execution_count": 18,
   "metadata": {},
   "outputs": [
    {
     "name": "stdout",
     "output_type": "stream",
     "text": [
      "Límite superior: 112.18377745064751\n",
      "Límite inferior: 19.91527060236831\n"
     ]
    }
   ],
   "source": [
    "edades = covidpe['EDAD'].to_numpy()\n",
    "promedio = np.mean(edades)\n",
    "std = np.std(edades)\n",
    "\n",
    "limite_superior = promedio + 3 * std\n",
    "limite_inferior = promedio - 3 * std\n",
    "\n",
    "print('Límite superior:', limite_superior)\n",
    "print('Límite inferior:', limite_inferior)\n",
    "\n",
    "covidpe_filtrado = covidpe[(covidpe['EDAD'] < limite_superior) & (covidpe['EDAD'] > limite_inferior)]"
   ]
  },
  {
   "cell_type": "markdown",
   "metadata": {},
   "source": [
    "Ahora si imputaremos esos outliers usando KNNImputer "
   ]
  },
  {
   "cell_type": "code",
   "execution_count": 19,
   "metadata": {},
   "outputs": [
    {
     "data": {
      "image/png": "[encoded data removed]",
      "text/plain": [
       "<Figure size 640x480 with 1 Axes>"
      ]
     },
     "metadata": {},
     "output_type": "display_data"
    }
   ],
   "source": [
    "covidpe['EDAD'] = covidpe['EDAD'].apply(lambda x: x if 19 <= x <= 112 else None)\n",
    "\n",
    "imputer = KNNImputer(n_neighbors=5)\n",
    "covidpe['EDAD'] = imputer.fit_transform(covidpe[['EDAD']])\n",
    "\n",
    "covidpe['EDAD'] = covidpe['EDAD'].astype(int)\n",
    "\n",
    "\n",
    "plt.hist(covidpe['EDAD'], bins=20, color='green', alpha=0.7)\n",
    "plt.title('Histograma después de la imputación')\n",
    "plt.xlabel('EDAD')\n",
    "plt.ylabel('Frecuencia')\n",
    "plt.show()\n"
   ]
  },
  {
   "cell_type": "code",
   "execution_count": 20,
   "metadata": {},
   "outputs": [
    {
     "data": {
      "text/html": [
       "<div>\n",
       "<style scoped>\n",
       "    .dataframe tbody tr th:only-of-type {\n",
       "        vertical-align: middle;\n",
       "    }\n",
       "\n",
       "    .dataframe tbody tr th {\n",
       "        vertical-align: top;\n",
       "    }\n",
       "\n",
       "    .dataframe thead th {\n",
       "        text-align: right;\n",
       "    }\n",
       "</style>\n",
       "<table border=\"1\" class=\"dataframe\">\n",
       "  <thead>\n",
       "    <tr style=\"text-align: right;\">\n",
       "      <th></th>\n",
       "      <th>FECHA_FALLECIMIENTO</th>\n",
       "      <th>EDAD</th>\n",
       "      <th>persona_ID</th>\n",
       "    </tr>\n",
       "  </thead>\n",
       "  <tbody>\n",
       "    <tr>\n",
       "      <th>count</th>\n",
       "      <td>2.019020e+05</td>\n",
       "      <td>201902.000000</td>\n",
       "      <td>201902.000000</td>\n",
       "    </tr>\n",
       "    <tr>\n",
       "      <th>mean</th>\n",
       "      <td>2.020591e+07</td>\n",
       "      <td>66.409005</td>\n",
       "      <td>100951.500000</td>\n",
       "    </tr>\n",
       "    <tr>\n",
       "      <th>std</th>\n",
       "      <td>4.825318e+03</td>\n",
       "      <td>14.667814</td>\n",
       "      <td>58284.231362</td>\n",
       "    </tr>\n",
       "    <tr>\n",
       "      <th>min</th>\n",
       "      <td>2.020030e+07</td>\n",
       "      <td>19.000000</td>\n",
       "      <td>1.000000</td>\n",
       "    </tr>\n",
       "    <tr>\n",
       "      <th>25%</th>\n",
       "      <td>2.020072e+07</td>\n",
       "      <td>57.000000</td>\n",
       "      <td>50476.250000</td>\n",
       "    </tr>\n",
       "    <tr>\n",
       "      <th>50%</th>\n",
       "      <td>2.021012e+07</td>\n",
       "      <td>67.000000</td>\n",
       "      <td>100951.500000</td>\n",
       "    </tr>\n",
       "    <tr>\n",
       "      <th>75%</th>\n",
       "      <td>2.021041e+07</td>\n",
       "      <td>77.000000</td>\n",
       "      <td>151426.750000</td>\n",
       "    </tr>\n",
       "    <tr>\n",
       "      <th>max</th>\n",
       "      <td>2.021121e+07</td>\n",
       "      <td>110.000000</td>\n",
       "      <td>201902.000000</td>\n",
       "    </tr>\n",
       "  </tbody>\n",
       "</table>\n",
       "</div>"
      ],
      "text/plain": [
       "       FECHA_FALLECIMIENTO           EDAD     persona_ID\n",
       "count         2.019020e+05  201902.000000  201902.000000\n",
       "mean          2.020591e+07      66.409005  100951.500000\n",
       "std           4.825318e+03      14.667814   58284.231362\n",
       "min           2.020030e+07      19.000000       1.000000\n",
       "25%           2.020072e+07      57.000000   50476.250000\n",
       "50%           2.021012e+07      67.000000  100951.500000\n",
       "75%           2.021041e+07      77.000000  151426.750000\n",
       "max           2.021121e+07     110.000000  201902.000000"
      ]
     },
     "execution_count": 20,
     "metadata": {},
     "output_type": "execute_result"
    }
   ],
   "source": [
    "covidpe.describe()"
   ]
  },
  {
   "cell_type": "markdown",
   "metadata": {},
   "source": [
    "Bien ahora que hemos hecho la limpieza de datos ya podemos llevarlo a power BI para generar algunos graficos"
   ]
  },
  {
   "cell_type": "code",
   "execution_count": 21,
   "metadata": {},
   "outputs": [],
   "source": [
    "covidpe.to_csv('covidpe_modificado.csv', index=False)\n"
   ]
  }
 ],
 "metadata": {
  "kernelspec": {
   "display_name": "Python 3",
   "language": "python",
   "name": "python3"
  },
  "language_info": {
   "codemirror_mode": {
    "name": "ipython",
    "version": 3
   },
   "file_extension": ".py",
   "mimetype": "text/x-python",
   "name": "python",
   "nbconvert_exporter": "python",
   "pygments_lexer": "ipython3",
   "version": "3.9.12"
  }
 },
 "nbformat": 4,
 "nbformat_minor": 2
}
